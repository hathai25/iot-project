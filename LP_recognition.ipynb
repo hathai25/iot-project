{
 "cells": [
  {
   "cell_type": "code",
   "execution_count": 1,
   "metadata": {},
   "outputs": [],
   "source": [
    "from PIL import Image\n",
    "import cv2\n",
    "import torch\n",
    "import math \n",
    "import function.utils_rotate as utils_rotate\n",
    "from IPython.display import display\n",
    "import os\n",
    "import function.helper as helper"
   ]
  },
  {
   "cell_type": "code",
   "execution_count": 2,
   "metadata": {},
   "outputs": [
    {
     "name": "stderr",
     "output_type": "stream",
     "text": [
      "YOLOv5  v6.1-179-gf3fecf9 torch 2.1.1+cpu CPU\n",
      "\n",
      "Fusing layers... \n",
      "Model summary: 290 layers, 20852934 parameters, 0 gradients\n",
      "Adding AutoShape... \n",
      "YOLOv5  v6.1-179-gf3fecf9 torch 2.1.1+cpu CPU\n",
      "\n",
      "Fusing layers... \n",
      "Model summary: 290 layers, 20970123 parameters, 0 gradients\n",
      "Adding AutoShape... \n"
     ]
    }
   ],
   "source": [
    "# load yolo model for detect and character detection stage\n",
    "# please download yolov5 from our link on github\n",
    "yolo_LP_detect = torch.hub.load('yolov5', 'custom', path='model/LP_detector.pt', force_reload=True, source='local')\n",
    "yolo_license_plate = torch.hub.load('yolov5', 'custom', path='model/LP_ocr.pt', force_reload=True, source='local')\n",
    "\n",
    "# set model confidence threshold \n",
    "# yolo_LP_detect.conf = 0.6\n",
    "yolo_license_plate.conf = 0.60"
   ]
  },
  {
   "cell_type": "code",
   "execution_count": 3,
   "metadata": {},
   "outputs": [],
   "source": [
    "#enter image path here\n",
    "img_file = \"test_image/119.jpg\"\n",
    "img = cv2.imread(img_file)\n",
    "plates = yolo_LP_detect(img, size=640)"
   ]
  },
  {
   "cell_type": "code",
   "execution_count": 4,
   "metadata": {},
   "outputs": [],
   "source": [
    "list_plates = plates.pandas().xyxy[0].values.tolist()\n",
    "list_read_plates = set()\n",
    "count = 0\n",
    "if len(list_plates) == 0:\n",
    "    lp = helper.read_plate(yolo_license_plate,img)\n",
    "    if lp != \"unknown\":\n",
    "        list_read_plates.add(lp)\n",
    "else:\n",
    "    for plate in list_plates:\n",
    "        flag = 0\n",
    "        x = int(plate[0]) # xmin\n",
    "        y = int(plate[1]) # ymin\n",
    "        w = int(plate[2] - plate[0]) # xmax - xmin\n",
    "        h = int(plate[3] - plate[1]) # ymax - ymin  \n",
    "        crop_img = img[y:y+h, x:x+w]\n",
    "        cv2.rectangle(img, (int(plate[0]),int(plate[1])), (int(plate[2]),int(plate[3])), color = (0,0,225), thickness = 2)\n",
    "        cv2.imwrite(\"crop.jpg\", crop_img)\n",
    "        rc_image = cv2.imread(\"crop.jpg\")\n",
    "        lp = \"\"\n",
    "        count+=1\n",
    "        for cc in range(0,2):\n",
    "            for ct in range(0,2):\n",
    "                lp = helper.read_plate(yolo_license_plate, utils_rotate.deskew(crop_img, cc, ct))\n",
    "                if lp != \"unknown\":\n",
    "                    list_read_plates.add(lp)\n",
    "                    flag = 1\n",
    "                    break\n",
    "            if flag == 1:\n",
    "                break"
   ]
  },
  {
   "cell_type": "code",
   "execution_count": 13,
   "metadata": {},
   "outputs": [
    {
     "name": "stdout",
     "output_type": "stream",
     "text": [
      "{'29V5-2108', '2902-1914', '29S1-75902'}\n"
     ]
    },
    {
     "ename": "AttributeError",
     "evalue": "module 'PIL.Image' has no attribute 'ANTIALIAS'",
     "output_type": "error",
     "traceback": [
      "\u001b[1;31m---------------------------------------------------------------------------\u001b[0m",
      "\u001b[1;31mAttributeError\u001b[0m                            Traceback (most recent call last)",
      "Cell \u001b[1;32mIn[13], line 6\u001b[0m\n\u001b[0;32m      4\u001b[0m wpercent \u001b[38;5;241m=\u001b[39m (basewidth\u001b[38;5;241m/\u001b[39m\u001b[38;5;28mfloat\u001b[39m(img\u001b[38;5;241m.\u001b[39msize[\u001b[38;5;241m0\u001b[39m]))\n\u001b[0;32m      5\u001b[0m hsize \u001b[38;5;241m=\u001b[39m \u001b[38;5;28mint\u001b[39m((\u001b[38;5;28mfloat\u001b[39m(img\u001b[38;5;241m.\u001b[39msize[\u001b[38;5;241m1\u001b[39m])\u001b[38;5;241m*\u001b[39m\u001b[38;5;28mfloat\u001b[39m(wpercent)))\n\u001b[1;32m----> 6\u001b[0m img \u001b[38;5;241m=\u001b[39m img\u001b[38;5;241m.\u001b[39mresize((basewidth,hsize), \u001b[43mImage\u001b[49m\u001b[38;5;241;43m.\u001b[39;49m\u001b[43mANTIALIAS\u001b[49m)\n\u001b[0;32m      7\u001b[0m display(img)\n",
      "\u001b[1;31mAttributeError\u001b[0m: module 'PIL.Image' has no attribute 'ANTIALIAS'"
     ]
    }
   ],
   "source": [
    "print(list_read_plates)\n",
    "img = Image.open(img_file)\n",
    "basewidth = 500\n",
    "wpercent = (basewidth/float(img.size[0]))\n",
    "hsize = int((float(img.size[1])*float(wpercent)))\n",
    "img = img.resize((basewidth,hsize), Image.ANTIALIAS)\n",
    "display(img)"
   ]
  },
  {
   "cell_type": "code",
   "execution_count": null,
   "metadata": {},
   "outputs": [],
   "source": []
  },
  {
   "cell_type": "code",
   "execution_count": null,
   "metadata": {},
   "outputs": [],
   "source": []
  }
 ],
 "metadata": {
  "kernelspec": {
   "display_name": "Python 3.9.7 64-bit",
   "language": "python",
   "name": "python3"
  },
  "language_info": {
   "codemirror_mode": {
    "name": "ipython",
    "version": 3
   },
   "file_extension": ".py",
   "mimetype": "text/x-python",
   "name": "python",
   "nbconvert_exporter": "python",
   "pygments_lexer": "ipython3",
   "version": "3.11.3"
  },
  "orig_nbformat": 4,
  "vscode": {
   "interpreter": {
    "hash": "11938c6bc6919ae2720b4d5011047913343b08a43b18698fd82dedb0d4417594"
   }
  }
 },
 "nbformat": 4,
 "nbformat_minor": 2
}
